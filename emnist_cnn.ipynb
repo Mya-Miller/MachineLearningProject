{
  "cells": [
    {
      "cell_type": "markdown",
      "metadata": {
        "id": "view-in-github",
        "colab_type": "text"
      },
      "source": [
        "<a href=\"https://colab.research.google.com/github/Mya-Miller/MachineLearningProject/blob/main/emnist_cnn.ipynb\" target=\"_parent\"><img src=\"https://colab.research.google.com/assets/colab-badge.svg\" alt=\"Open In Colab\"/></a>"
      ]
    },
    {
      "cell_type": "markdown",
      "metadata": {
        "_uuid": "31de920b8841625394bdabffdf80b436efc56b0d",
        "id": "HtI3nbpnoe2U"
      },
      "source": [
        "### load library"
      ]
    },
    {
      "cell_type": "code",
      "execution_count": 1,
      "metadata": {
        "_cell_guid": "b1076dfc-b9ad-4769-8c92-a6c4dae69d19",
        "_uuid": "8f2839f25d086af736a60e9eeb907d3b93b6e0e5",
        "execution": {
          "iopub.execute_input": "2023-09-22T21:07:02.365247Z",
          "iopub.status.busy": "2023-09-22T21:07:02.364550Z",
          "iopub.status.idle": "2023-09-22T21:07:02.369635Z",
          "shell.execute_reply": "2023-09-22T21:07:02.368758Z",
          "shell.execute_reply.started": "2023-09-22T21:07:02.364949Z"
        },
        "id": "QtTfasggoe2W"
      },
      "outputs": [],
      "source": [
        "import numpy as np # linear algebra\n",
        "import pandas as pd # data processing, CSV file I/O (e.g. pd.read_csv)"
      ]
    },
    {
      "cell_type": "code",
      "execution_count": 2,
      "metadata": {
        "_cell_guid": "79c7e3d0-c299-4dcb-8224-4455121ee9b0",
        "_uuid": "d629ff2d2480ee46fbb7e2d37f6b5fab8052498a",
        "execution": {
          "iopub.execute_input": "2023-09-22T21:07:02.371184Z",
          "iopub.status.busy": "2023-09-22T21:07:02.370873Z",
          "iopub.status.idle": "2023-09-22T21:07:02.386406Z",
          "shell.execute_reply": "2023-09-22T21:07:02.385480Z",
          "shell.execute_reply.started": "2023-09-22T21:07:02.371117Z"
        },
        "id": "Xcs5higvoe2W"
      },
      "outputs": [],
      "source": [
        "from tensorflow import keras\n",
        "# from tensorflow.keras.utils import to_categorical\n",
        "# from tensorflow.keras.models import Sequential\n",
        "# from tensorflow.keras.layers import Conv2D, MaxPooling2D, Flatten, Dense, Dropout\n",
        "# from tensorflow.keras.losses import categorical_crossentropy\n",
        "# from tensorflow.keras.optimizers import Adam\n",
        "# from tensorflow.keras.preprocessing.image import ImageDataGenerator\n",
        "\n",
        "import matplotlib.pyplot as plt"
      ]
    },
    {
      "cell_type": "markdown",
      "metadata": {
        "_uuid": "9b016437d3f8a6460a8763129d010e449f1aa607",
        "id": "O37qT1Dtoe2X"
      },
      "source": [
        "### Load dataset"
      ]
    },
    {
      "cell_type": "code",
      "execution_count": 3,
      "metadata": {
        "_uuid": "1f4399ac5ab8fb5b48b4d4d944f51bca6814816c",
        "execution": {
          "iopub.execute_input": "2023-09-22T21:07:02.388036Z",
          "iopub.status.busy": "2023-09-22T21:07:02.387682Z",
          "iopub.status.idle": "2023-09-22T21:07:02.400694Z",
          "shell.execute_reply": "2023-09-22T21:07:02.399660Z",
          "shell.execute_reply.started": "2023-09-22T21:07:02.387970Z"
        },
        "id": "jxykIreVoe2X"
      },
      "outputs": [],
      "source": [
        "train_data_path = 'emnist-letters-train.csv'\n",
        "test_data_path = 'emnist-letters-test.csv'"
      ]
    },
    {
      "cell_type": "code",
      "execution_count": 4,
      "metadata": {
        "_uuid": "a3bba436039a3c87639fee9fb0f7963933450871",
        "execution": {
          "iopub.execute_input": "2023-09-22T21:07:02.402302Z",
          "iopub.status.busy": "2023-09-22T21:07:02.401911Z",
          "iopub.status.idle": "2023-09-22T21:07:12.175709Z",
          "shell.execute_reply": "2023-09-22T21:07:12.174996Z",
          "shell.execute_reply.started": "2023-09-22T21:07:02.402257Z"
        },
        "id": "S77S74ZDoe2X"
      },
      "outputs": [],
      "source": [
        "train_data = pd.read_csv(train_data_path, header=None)"
      ]
    },
    {
      "cell_type": "code",
      "execution_count": 5,
      "metadata": {
        "_uuid": "98ea8bd7477906d87fff464cf207cbb0d1a86c22",
        "execution": {
          "iopub.execute_input": "2023-09-22T21:07:12.177270Z",
          "iopub.status.busy": "2023-09-22T21:07:12.177003Z",
          "iopub.status.idle": "2023-09-22T21:07:12.329197Z",
          "shell.execute_reply": "2023-09-22T21:07:12.328354Z",
          "shell.execute_reply.started": "2023-09-22T21:07:12.177225Z"
        },
        "colab": {
          "base_uri": "https://localhost:8080/",
          "height": 392
        },
        "id": "AheuT1jHoe2X",
        "outputId": "f3d307c8-5131-4b7d-f545-aafdaba07933"
      },
      "outputs": [
        {
          "output_type": "execute_result",
          "data": {
            "text/plain": [
              "   0    1    2    3    4    5    6    7    8    9    ...  775  776  777  778  \\\n",
              "0   23    0    0    0    0    0    0    0    0    0  ...    0    0    0    0   \n",
              "1    7    0    0    0    0    0    0    0    0    0  ...    0    0    0    0   \n",
              "2   16    0    0    0    0    0    0    0    0    0  ...    0    0    0    0   \n",
              "3   15    0    0    0    0    0    0    0    0    0  ...    0    0    0    0   \n",
              "4   23    0    0    0    0    0    0    0    0    0  ...    0    0    0    0   \n",
              "5   17    0    0    0    0    0    0    0    0    0  ...    0    0    0    0   \n",
              "6   13    0    0    0    0    0    0    0    0    0  ...    0    0    0    0   \n",
              "7   11    0    0    0    0    0    0    0    0    0  ...    0    0    0    0   \n",
              "8   22    0    0    0    0    0    0    0    0    0  ...    0    0    0    0   \n",
              "9   24    0    0    0    0    0    0    0    0    0  ...    0    0    0    0   \n",
              "\n",
              "   779  780  781  782  783  784  \n",
              "0    0    0    0    0    0    0  \n",
              "1    0    0    0    0    0    0  \n",
              "2    0    0    0    0    0    0  \n",
              "3    0    0    0    0    0    0  \n",
              "4    0    0    0    0    0    0  \n",
              "5    0    0    0    0    0    0  \n",
              "6    0    0    0    0    0    0  \n",
              "7    0    0    0    0    0    0  \n",
              "8    0    0    0    0    0    0  \n",
              "9    0    0    0    0    0    0  \n",
              "\n",
              "[10 rows x 785 columns]"
            ],
            "text/html": [
              "\n",
              "  <div id=\"df-61ce2ada-299a-435e-9042-06818aa5fe47\" class=\"colab-df-container\">\n",
              "    <div>\n",
              "<style scoped>\n",
              "    .dataframe tbody tr th:only-of-type {\n",
              "        vertical-align: middle;\n",
              "    }\n",
              "\n",
              "    .dataframe tbody tr th {\n",
              "        vertical-align: top;\n",
              "    }\n",
              "\n",
              "    .dataframe thead th {\n",
              "        text-align: right;\n",
              "    }\n",
              "</style>\n",
              "<table border=\"1\" class=\"dataframe\">\n",
              "  <thead>\n",
              "    <tr style=\"text-align: right;\">\n",
              "      <th></th>\n",
              "      <th>0</th>\n",
              "      <th>1</th>\n",
              "      <th>2</th>\n",
              "      <th>3</th>\n",
              "      <th>4</th>\n",
              "      <th>5</th>\n",
              "      <th>6</th>\n",
              "      <th>7</th>\n",
              "      <th>8</th>\n",
              "      <th>9</th>\n",
              "      <th>...</th>\n",
              "      <th>775</th>\n",
              "      <th>776</th>\n",
              "      <th>777</th>\n",
              "      <th>778</th>\n",
              "      <th>779</th>\n",
              "      <th>780</th>\n",
              "      <th>781</th>\n",
              "      <th>782</th>\n",
              "      <th>783</th>\n",
              "      <th>784</th>\n",
              "    </tr>\n",
              "  </thead>\n",
              "  <tbody>\n",
              "    <tr>\n",
              "      <th>0</th>\n",
              "      <td>23</td>\n",
              "      <td>0</td>\n",
              "      <td>0</td>\n",
              "      <td>0</td>\n",
              "      <td>0</td>\n",
              "      <td>0</td>\n",
              "      <td>0</td>\n",
              "      <td>0</td>\n",
              "      <td>0</td>\n",
              "      <td>0</td>\n",
              "      <td>...</td>\n",
              "      <td>0</td>\n",
              "      <td>0</td>\n",
              "      <td>0</td>\n",
              "      <td>0</td>\n",
              "      <td>0</td>\n",
              "      <td>0</td>\n",
              "      <td>0</td>\n",
              "      <td>0</td>\n",
              "      <td>0</td>\n",
              "      <td>0</td>\n",
              "    </tr>\n",
              "    <tr>\n",
              "      <th>1</th>\n",
              "      <td>7</td>\n",
              "      <td>0</td>\n",
              "      <td>0</td>\n",
              "      <td>0</td>\n",
              "      <td>0</td>\n",
              "      <td>0</td>\n",
              "      <td>0</td>\n",
              "      <td>0</td>\n",
              "      <td>0</td>\n",
              "      <td>0</td>\n",
              "      <td>...</td>\n",
              "      <td>0</td>\n",
              "      <td>0</td>\n",
              "      <td>0</td>\n",
              "      <td>0</td>\n",
              "      <td>0</td>\n",
              "      <td>0</td>\n",
              "      <td>0</td>\n",
              "      <td>0</td>\n",
              "      <td>0</td>\n",
              "      <td>0</td>\n",
              "    </tr>\n",
              "    <tr>\n",
              "      <th>2</th>\n",
              "      <td>16</td>\n",
              "      <td>0</td>\n",
              "      <td>0</td>\n",
              "      <td>0</td>\n",
              "      <td>0</td>\n",
              "      <td>0</td>\n",
              "      <td>0</td>\n",
              "      <td>0</td>\n",
              "      <td>0</td>\n",
              "      <td>0</td>\n",
              "      <td>...</td>\n",
              "      <td>0</td>\n",
              "      <td>0</td>\n",
              "      <td>0</td>\n",
              "      <td>0</td>\n",
              "      <td>0</td>\n",
              "      <td>0</td>\n",
              "      <td>0</td>\n",
              "      <td>0</td>\n",
              "      <td>0</td>\n",
              "      <td>0</td>\n",
              "    </tr>\n",
              "    <tr>\n",
              "      <th>3</th>\n",
              "      <td>15</td>\n",
              "      <td>0</td>\n",
              "      <td>0</td>\n",
              "      <td>0</td>\n",
              "      <td>0</td>\n",
              "      <td>0</td>\n",
              "      <td>0</td>\n",
              "      <td>0</td>\n",
              "      <td>0</td>\n",
              "      <td>0</td>\n",
              "      <td>...</td>\n",
              "      <td>0</td>\n",
              "      <td>0</td>\n",
              "      <td>0</td>\n",
              "      <td>0</td>\n",
              "      <td>0</td>\n",
              "      <td>0</td>\n",
              "      <td>0</td>\n",
              "      <td>0</td>\n",
              "      <td>0</td>\n",
              "      <td>0</td>\n",
              "    </tr>\n",
              "    <tr>\n",
              "      <th>4</th>\n",
              "      <td>23</td>\n",
              "      <td>0</td>\n",
              "      <td>0</td>\n",
              "      <td>0</td>\n",
              "      <td>0</td>\n",
              "      <td>0</td>\n",
              "      <td>0</td>\n",
              "      <td>0</td>\n",
              "      <td>0</td>\n",
              "      <td>0</td>\n",
              "      <td>...</td>\n",
              "      <td>0</td>\n",
              "      <td>0</td>\n",
              "      <td>0</td>\n",
              "      <td>0</td>\n",
              "      <td>0</td>\n",
              "      <td>0</td>\n",
              "      <td>0</td>\n",
              "      <td>0</td>\n",
              "      <td>0</td>\n",
              "      <td>0</td>\n",
              "    </tr>\n",
              "    <tr>\n",
              "      <th>5</th>\n",
              "      <td>17</td>\n",
              "      <td>0</td>\n",
              "      <td>0</td>\n",
              "      <td>0</td>\n",
              "      <td>0</td>\n",
              "      <td>0</td>\n",
              "      <td>0</td>\n",
              "      <td>0</td>\n",
              "      <td>0</td>\n",
              "      <td>0</td>\n",
              "      <td>...</td>\n",
              "      <td>0</td>\n",
              "      <td>0</td>\n",
              "      <td>0</td>\n",
              "      <td>0</td>\n",
              "      <td>0</td>\n",
              "      <td>0</td>\n",
              "      <td>0</td>\n",
              "      <td>0</td>\n",
              "      <td>0</td>\n",
              "      <td>0</td>\n",
              "    </tr>\n",
              "    <tr>\n",
              "      <th>6</th>\n",
              "      <td>13</td>\n",
              "      <td>0</td>\n",
              "      <td>0</td>\n",
              "      <td>0</td>\n",
              "      <td>0</td>\n",
              "      <td>0</td>\n",
              "      <td>0</td>\n",
              "      <td>0</td>\n",
              "      <td>0</td>\n",
              "      <td>0</td>\n",
              "      <td>...</td>\n",
              "      <td>0</td>\n",
              "      <td>0</td>\n",
              "      <td>0</td>\n",
              "      <td>0</td>\n",
              "      <td>0</td>\n",
              "      <td>0</td>\n",
              "      <td>0</td>\n",
              "      <td>0</td>\n",
              "      <td>0</td>\n",
              "      <td>0</td>\n",
              "    </tr>\n",
              "    <tr>\n",
              "      <th>7</th>\n",
              "      <td>11</td>\n",
              "      <td>0</td>\n",
              "      <td>0</td>\n",
              "      <td>0</td>\n",
              "      <td>0</td>\n",
              "      <td>0</td>\n",
              "      <td>0</td>\n",
              "      <td>0</td>\n",
              "      <td>0</td>\n",
              "      <td>0</td>\n",
              "      <td>...</td>\n",
              "      <td>0</td>\n",
              "      <td>0</td>\n",
              "      <td>0</td>\n",
              "      <td>0</td>\n",
              "      <td>0</td>\n",
              "      <td>0</td>\n",
              "      <td>0</td>\n",
              "      <td>0</td>\n",
              "      <td>0</td>\n",
              "      <td>0</td>\n",
              "    </tr>\n",
              "    <tr>\n",
              "      <th>8</th>\n",
              "      <td>22</td>\n",
              "      <td>0</td>\n",
              "      <td>0</td>\n",
              "      <td>0</td>\n",
              "      <td>0</td>\n",
              "      <td>0</td>\n",
              "      <td>0</td>\n",
              "      <td>0</td>\n",
              "      <td>0</td>\n",
              "      <td>0</td>\n",
              "      <td>...</td>\n",
              "      <td>0</td>\n",
              "      <td>0</td>\n",
              "      <td>0</td>\n",
              "      <td>0</td>\n",
              "      <td>0</td>\n",
              "      <td>0</td>\n",
              "      <td>0</td>\n",
              "      <td>0</td>\n",
              "      <td>0</td>\n",
              "      <td>0</td>\n",
              "    </tr>\n",
              "    <tr>\n",
              "      <th>9</th>\n",
              "      <td>24</td>\n",
              "      <td>0</td>\n",
              "      <td>0</td>\n",
              "      <td>0</td>\n",
              "      <td>0</td>\n",
              "      <td>0</td>\n",
              "      <td>0</td>\n",
              "      <td>0</td>\n",
              "      <td>0</td>\n",
              "      <td>0</td>\n",
              "      <td>...</td>\n",
              "      <td>0</td>\n",
              "      <td>0</td>\n",
              "      <td>0</td>\n",
              "      <td>0</td>\n",
              "      <td>0</td>\n",
              "      <td>0</td>\n",
              "      <td>0</td>\n",
              "      <td>0</td>\n",
              "      <td>0</td>\n",
              "      <td>0</td>\n",
              "    </tr>\n",
              "  </tbody>\n",
              "</table>\n",
              "<p>10 rows × 785 columns</p>\n",
              "</div>\n",
              "    <div class=\"colab-df-buttons\">\n",
              "\n",
              "  <div class=\"colab-df-container\">\n",
              "    <button class=\"colab-df-convert\" onclick=\"convertToInteractive('df-61ce2ada-299a-435e-9042-06818aa5fe47')\"\n",
              "            title=\"Convert this dataframe to an interactive table.\"\n",
              "            style=\"display:none;\">\n",
              "\n",
              "  <svg xmlns=\"http://www.w3.org/2000/svg\" height=\"24px\" viewBox=\"0 -960 960 960\">\n",
              "    <path d=\"M120-120v-720h720v720H120Zm60-500h600v-160H180v160Zm220 220h160v-160H400v160Zm0 220h160v-160H400v160ZM180-400h160v-160H180v160Zm440 0h160v-160H620v160ZM180-180h160v-160H180v160Zm440 0h160v-160H620v160Z\"/>\n",
              "  </svg>\n",
              "    </button>\n",
              "\n",
              "  <style>\n",
              "    .colab-df-container {\n",
              "      display:flex;\n",
              "      gap: 12px;\n",
              "    }\n",
              "\n",
              "    .colab-df-convert {\n",
              "      background-color: #E8F0FE;\n",
              "      border: none;\n",
              "      border-radius: 50%;\n",
              "      cursor: pointer;\n",
              "      display: none;\n",
              "      fill: #1967D2;\n",
              "      height: 32px;\n",
              "      padding: 0 0 0 0;\n",
              "      width: 32px;\n",
              "    }\n",
              "\n",
              "    .colab-df-convert:hover {\n",
              "      background-color: #E2EBFA;\n",
              "      box-shadow: 0px 1px 2px rgba(60, 64, 67, 0.3), 0px 1px 3px 1px rgba(60, 64, 67, 0.15);\n",
              "      fill: #174EA6;\n",
              "    }\n",
              "\n",
              "    .colab-df-buttons div {\n",
              "      margin-bottom: 4px;\n",
              "    }\n",
              "\n",
              "    [theme=dark] .colab-df-convert {\n",
              "      background-color: #3B4455;\n",
              "      fill: #D2E3FC;\n",
              "    }\n",
              "\n",
              "    [theme=dark] .colab-df-convert:hover {\n",
              "      background-color: #434B5C;\n",
              "      box-shadow: 0px 1px 3px 1px rgba(0, 0, 0, 0.15);\n",
              "      filter: drop-shadow(0px 1px 2px rgba(0, 0, 0, 0.3));\n",
              "      fill: #FFFFFF;\n",
              "    }\n",
              "  </style>\n",
              "\n",
              "    <script>\n",
              "      const buttonEl =\n",
              "        document.querySelector('#df-61ce2ada-299a-435e-9042-06818aa5fe47 button.colab-df-convert');\n",
              "      buttonEl.style.display =\n",
              "        google.colab.kernel.accessAllowed ? 'block' : 'none';\n",
              "\n",
              "      async function convertToInteractive(key) {\n",
              "        const element = document.querySelector('#df-61ce2ada-299a-435e-9042-06818aa5fe47');\n",
              "        const dataTable =\n",
              "          await google.colab.kernel.invokeFunction('convertToInteractive',\n",
              "                                                    [key], {});\n",
              "        if (!dataTable) return;\n",
              "\n",
              "        const docLinkHtml = 'Like what you see? Visit the ' +\n",
              "          '<a target=\"_blank\" href=https://colab.research.google.com/notebooks/data_table.ipynb>data table notebook</a>'\n",
              "          + ' to learn more about interactive tables.';\n",
              "        element.innerHTML = '';\n",
              "        dataTable['output_type'] = 'display_data';\n",
              "        await google.colab.output.renderOutput(dataTable, element);\n",
              "        const docLink = document.createElement('div');\n",
              "        docLink.innerHTML = docLinkHtml;\n",
              "        element.appendChild(docLink);\n",
              "      }\n",
              "    </script>\n",
              "  </div>\n",
              "\n",
              "\n",
              "<div id=\"df-10b9e558-d104-4483-952d-a3a5513ecb61\">\n",
              "  <button class=\"colab-df-quickchart\" onclick=\"quickchart('df-10b9e558-d104-4483-952d-a3a5513ecb61')\"\n",
              "            title=\"Suggest charts\"\n",
              "            style=\"display:none;\">\n",
              "\n",
              "<svg xmlns=\"http://www.w3.org/2000/svg\" height=\"24px\"viewBox=\"0 0 24 24\"\n",
              "     width=\"24px\">\n",
              "    <g>\n",
              "        <path d=\"M19 3H5c-1.1 0-2 .9-2 2v14c0 1.1.9 2 2 2h14c1.1 0 2-.9 2-2V5c0-1.1-.9-2-2-2zM9 17H7v-7h2v7zm4 0h-2V7h2v10zm4 0h-2v-4h2v4z\"/>\n",
              "    </g>\n",
              "</svg>\n",
              "  </button>\n",
              "\n",
              "<style>\n",
              "  .colab-df-quickchart {\n",
              "      --bg-color: #E8F0FE;\n",
              "      --fill-color: #1967D2;\n",
              "      --hover-bg-color: #E2EBFA;\n",
              "      --hover-fill-color: #174EA6;\n",
              "      --disabled-fill-color: #AAA;\n",
              "      --disabled-bg-color: #DDD;\n",
              "  }\n",
              "\n",
              "  [theme=dark] .colab-df-quickchart {\n",
              "      --bg-color: #3B4455;\n",
              "      --fill-color: #D2E3FC;\n",
              "      --hover-bg-color: #434B5C;\n",
              "      --hover-fill-color: #FFFFFF;\n",
              "      --disabled-bg-color: #3B4455;\n",
              "      --disabled-fill-color: #666;\n",
              "  }\n",
              "\n",
              "  .colab-df-quickchart {\n",
              "    background-color: var(--bg-color);\n",
              "    border: none;\n",
              "    border-radius: 50%;\n",
              "    cursor: pointer;\n",
              "    display: none;\n",
              "    fill: var(--fill-color);\n",
              "    height: 32px;\n",
              "    padding: 0;\n",
              "    width: 32px;\n",
              "  }\n",
              "\n",
              "  .colab-df-quickchart:hover {\n",
              "    background-color: var(--hover-bg-color);\n",
              "    box-shadow: 0 1px 2px rgba(60, 64, 67, 0.3), 0 1px 3px 1px rgba(60, 64, 67, 0.15);\n",
              "    fill: var(--button-hover-fill-color);\n",
              "  }\n",
              "\n",
              "  .colab-df-quickchart-complete:disabled,\n",
              "  .colab-df-quickchart-complete:disabled:hover {\n",
              "    background-color: var(--disabled-bg-color);\n",
              "    fill: var(--disabled-fill-color);\n",
              "    box-shadow: none;\n",
              "  }\n",
              "\n",
              "  .colab-df-spinner {\n",
              "    border: 2px solid var(--fill-color);\n",
              "    border-color: transparent;\n",
              "    border-bottom-color: var(--fill-color);\n",
              "    animation:\n",
              "      spin 1s steps(1) infinite;\n",
              "  }\n",
              "\n",
              "  @keyframes spin {\n",
              "    0% {\n",
              "      border-color: transparent;\n",
              "      border-bottom-color: var(--fill-color);\n",
              "      border-left-color: var(--fill-color);\n",
              "    }\n",
              "    20% {\n",
              "      border-color: transparent;\n",
              "      border-left-color: var(--fill-color);\n",
              "      border-top-color: var(--fill-color);\n",
              "    }\n",
              "    30% {\n",
              "      border-color: transparent;\n",
              "      border-left-color: var(--fill-color);\n",
              "      border-top-color: var(--fill-color);\n",
              "      border-right-color: var(--fill-color);\n",
              "    }\n",
              "    40% {\n",
              "      border-color: transparent;\n",
              "      border-right-color: var(--fill-color);\n",
              "      border-top-color: var(--fill-color);\n",
              "    }\n",
              "    60% {\n",
              "      border-color: transparent;\n",
              "      border-right-color: var(--fill-color);\n",
              "    }\n",
              "    80% {\n",
              "      border-color: transparent;\n",
              "      border-right-color: var(--fill-color);\n",
              "      border-bottom-color: var(--fill-color);\n",
              "    }\n",
              "    90% {\n",
              "      border-color: transparent;\n",
              "      border-bottom-color: var(--fill-color);\n",
              "    }\n",
              "  }\n",
              "</style>\n",
              "\n",
              "  <script>\n",
              "    async function quickchart(key) {\n",
              "      const quickchartButtonEl =\n",
              "        document.querySelector('#' + key + ' button');\n",
              "      quickchartButtonEl.disabled = true;  // To prevent multiple clicks.\n",
              "      quickchartButtonEl.classList.add('colab-df-spinner');\n",
              "      try {\n",
              "        const charts = await google.colab.kernel.invokeFunction(\n",
              "            'suggestCharts', [key], {});\n",
              "      } catch (error) {\n",
              "        console.error('Error during call to suggestCharts:', error);\n",
              "      }\n",
              "      quickchartButtonEl.classList.remove('colab-df-spinner');\n",
              "      quickchartButtonEl.classList.add('colab-df-quickchart-complete');\n",
              "    }\n",
              "    (() => {\n",
              "      let quickchartButtonEl =\n",
              "        document.querySelector('#df-10b9e558-d104-4483-952d-a3a5513ecb61 button');\n",
              "      quickchartButtonEl.style.display =\n",
              "        google.colab.kernel.accessAllowed ? 'block' : 'none';\n",
              "    })();\n",
              "  </script>\n",
              "</div>\n",
              "    </div>\n",
              "  </div>\n"
            ]
          },
          "metadata": {},
          "execution_count": 5
        }
      ],
      "source": [
        "train_data.head(10)"
      ]
    },
    {
      "cell_type": "code",
      "execution_count": 6,
      "metadata": {
        "_uuid": "f2fb5113d990cab102b2e9f657baa3a8da129400",
        "execution": {
          "iopub.execute_input": "2023-09-22T21:07:12.330608Z",
          "iopub.status.busy": "2023-09-22T21:07:12.330336Z",
          "iopub.status.idle": "2023-09-22T21:07:12.335343Z",
          "shell.execute_reply": "2023-09-22T21:07:12.334452Z",
          "shell.execute_reply.started": "2023-09-22T21:07:12.330562Z"
        },
        "id": "aFgqBqnRoe2X"
      },
      "outputs": [],
      "source": [
        "# The classes of this balanced dataset are as follows. Index into it based on class label\n",
        "class_mapping = ' ABCDEFGHIJKLMNOPQRSTUVWXYZ'\n",
        "# source data: https://arxiv.org/pdf/1702.05373.pdf"
      ]
    },
    {
      "cell_type": "code",
      "execution_count": 7,
      "metadata": {
        "_uuid": "580fafe36c21d0f3d3911b2065f9f09d786db370",
        "execution": {
          "iopub.execute_input": "2023-09-22T21:07:12.336969Z",
          "iopub.status.busy": "2023-09-22T21:07:12.336546Z",
          "iopub.status.idle": "2023-09-22T21:07:12.354190Z",
          "shell.execute_reply": "2023-09-22T21:07:12.353293Z",
          "shell.execute_reply.started": "2023-09-22T21:07:12.336915Z"
        },
        "colab": {
          "base_uri": "https://localhost:8080/",
          "height": 35
        },
        "id": "-_KK-ihSoe2X",
        "outputId": "f234c1cf-03d5-483f-e661-192aece95190"
      },
      "outputs": [
        {
          "output_type": "execute_result",
          "data": {
            "text/plain": [
              "'T'"
            ],
            "application/vnd.google.colaboratory.intrinsic+json": {
              "type": "string"
            }
          },
          "metadata": {},
          "execution_count": 7
        }
      ],
      "source": [
        "class_mapping[20]"
      ]
    },
    {
      "cell_type": "code",
      "execution_count": 8,
      "metadata": {
        "_uuid": "bd26cc4af46e4a09316da300f8513f1a9f6fa260",
        "execution": {
          "iopub.execute_input": "2023-09-22T21:07:12.356123Z",
          "iopub.status.busy": "2023-09-22T21:07:12.355649Z",
          "iopub.status.idle": "2023-09-22T21:07:12.370636Z",
          "shell.execute_reply": "2023-09-22T21:07:12.369931Z",
          "shell.execute_reply.started": "2023-09-22T21:07:12.356019Z"
        },
        "colab": {
          "base_uri": "https://localhost:8080/"
        },
        "id": "dI28Scnfoe2X",
        "outputId": "944d9fd5-ea26-4506-b7dc-f09330fed761"
      },
      "outputs": [
        {
          "output_type": "execute_result",
          "data": {
            "text/plain": [
              "(88800, 785)"
            ]
          },
          "metadata": {},
          "execution_count": 8
        }
      ],
      "source": [
        "train_data.shape"
      ]
    },
    {
      "cell_type": "markdown",
      "metadata": {
        "_uuid": "0d9acbcee4de0ea29f70ac51394b941d41def7b1",
        "id": "QIbddMahoe2X"
      },
      "source": [
        "## Data is flipped"
      ]
    },
    {
      "cell_type": "code",
      "source": [
        "check = 782\n",
        "check_image = train_data.iloc[check,1:].to_numpy()\n",
        "pixels = check_image.reshape((28,28))\n",
        "img1 = np.fliplr(pixels)\n",
        "img1 = np.rot90(img1)\n",
        "plt.imshow(img1, cmap = 'gray')\n",
        "plt.show\n"
      ],
      "metadata": {
        "colab": {
          "base_uri": "https://localhost:8080/",
          "height": 448
        },
        "id": "ldO5bqBR9H3B",
        "outputId": "e9100837-1b6b-46f3-dc37-d9f18415ce46"
      },
      "execution_count": 22,
      "outputs": [
        {
          "output_type": "execute_result",
          "data": {
            "text/plain": [
              "<function matplotlib.pyplot.show(close=None, block=None)>"
            ]
          },
          "metadata": {},
          "execution_count": 22
        },
        {
          "output_type": "display_data",
          "data": {
            "text/plain": [
              "<Figure size 640x480 with 1 Axes>"
            ],
            "image/png": "[encoded data removed]"
          },
          "metadata": {}
        }
      ]
    },
    {
      "cell_type": "code",
      "execution_count": 14,
      "metadata": {
        "execution": {
          "iopub.execute_input": "2023-09-22T21:07:12.372454Z",
          "iopub.status.busy": "2023-09-22T21:07:12.371930Z",
          "iopub.status.idle": "2023-09-22T21:07:14.728222Z",
          "shell.execute_reply": "2023-09-22T21:07:14.726943Z",
          "shell.execute_reply.started": "2023-09-22T21:07:12.372377Z"
        },
        "colab": {
          "base_uri": "https://localhost:8080/",
          "height": 680
        },
        "id": "XZl6rRCroe2Y",
        "outputId": "81dfc336-329e-45c2-a628-b003788696a4"
      },
      "outputs": [
        {
          "output_type": "display_data",
          "data": {
            "text/plain": [
              "<Figure size 1000x800 with 25 Axes>"
            ],
            "image/png": "[encoded data removed]"
          },
          "metadata": {}
        }
      ],
      "source": [
        "img_size = 28\n",
        "x1 = np.array(train_data.iloc[:,1:].values)\n",
        "indices = np.arange(len(x1))\n",
        "np.random.shuffle(indices)\n",
        "fig,axes = plt.subplots(5,5,figsize=(10,8))\n",
        "for i,ax in enumerate(axes.flat):\n",
        "    img = x1[indices[i]].reshape([img_size, img_size])\n",
        "    image = np.fliplr(img)\n",
        "    image = np.rot90(image)\n",
        "    ax.imshow(image)"
      ]
    },
    {
      "cell_type": "code",
      "source": [
        "row_num = 4\n",
        "num_classes = len(train_data[0].unique())\n",
        "num_classes"
      ],
      "metadata": {
        "colab": {
          "base_uri": "https://localhost:8080/"
        },
        "id": "WrXnyFOg87ly",
        "outputId": "1bcc0487-9992-4a23-af80-3893f7cec3b0"
      },
      "execution_count": 26,
      "outputs": [
        {
          "output_type": "execute_result",
          "data": {
            "text/plain": [
              "26"
            ]
          },
          "metadata": {},
          "execution_count": 26
        }
      ]
    },
    {
      "cell_type": "code",
      "execution_count": 20,
      "metadata": {
        "_uuid": "08867c5c0faab423312281eea41015ad10648b66",
        "execution": {
          "iopub.execute_input": "2023-09-22T21:07:14.731566Z",
          "iopub.status.busy": "2023-09-22T21:07:14.730540Z",
          "iopub.status.idle": "2023-09-22T21:07:15.188891Z",
          "shell.execute_reply": "2023-09-22T21:07:15.184211Z",
          "shell.execute_reply.started": "2023-09-22T21:07:14.731459Z"
        },
        "colab": {
          "base_uri": "https://localhost:8080/",
          "height": 843
        },
        "id": "DEumChe3oe2Y",
        "outputId": "150ddce6-d839-4d58-83ef-170f4824d541"
      },
      "outputs": [
        {
          "output_type": "display_data",
          "data": {
            "text/plain": [
              "<Figure size 640x480 with 1 Axes>"
            ],
            "image/png": "[encoded data removed]"
          },
          "metadata": {}
        },
        {
          "output_type": "display_data",
          "data": {
            "text/plain": [
              "<Figure size 640x480 with 1 Axes>"
            ],
            "image/png": "[encoded data removed]"
          },
          "metadata": {}
        }
      ],
      "source": [
        "plt.imshow(train_data.values[row_num, 1:].reshape([img_size, img_size]), cmap='Greys_r')\n",
        "plt.show()\n",
        "\n",
        "img_flip = np.transpose(train_data.values[row_num,1:].reshape(img_size, img_size), axes=[1,0]) # img_size * img_size arrays\n",
        "#img_flip = np.rot90(train_data.values[row_num,1:].reshape(img_size, img_size), axes=[1,0])\n",
        "plt.imshow(img_flip, cmap='Greys_r')\n",
        "\n",
        "plt.show()"
      ]
    },
    {
      "cell_type": "code",
      "execution_count": 21,
      "metadata": {
        "_uuid": "4a3d24bf1e6c5527f13a669704cafd4cc84ef4ca",
        "execution": {
          "iopub.execute_input": "2023-09-22T21:07:15.191462Z",
          "iopub.status.busy": "2023-09-22T21:07:15.190992Z",
          "iopub.status.idle": "2023-09-22T21:07:15.206637Z",
          "shell.execute_reply": "2023-09-22T21:07:15.205236Z",
          "shell.execute_reply.started": "2023-09-22T21:07:15.191390Z"
        },
        "id": "vd38RK7Woe2Y"
      },
      "outputs": [],
      "source": [
        "def show_img(data, row_num):\n",
        "    img_flip = np.transpose(data.values[row_num,1:].reshape(img_size, img_size), axes=[1,0]) # img_size * img_size arrays\n",
        "    plt.title('Class: ' + str(data.values[row_num,0]) + ', Label: ' + str(class_mapping[data.values[row_num,0]]))\n",
        "    plt.imshow(img_flip, cmap='Greys_r')"
      ]
    },
    {
      "cell_type": "code",
      "execution_count": 22,
      "metadata": {
        "_uuid": "7921f478d1d79dcc480f7987ce20340167b894c1",
        "execution": {
          "iopub.execute_input": "2023-09-22T21:07:15.209534Z",
          "iopub.status.busy": "2023-09-22T21:07:15.208899Z",
          "iopub.status.idle": "2023-09-22T21:07:15.437564Z",
          "shell.execute_reply": "2023-09-22T21:07:15.436254Z",
          "shell.execute_reply.started": "2023-09-22T21:07:15.209302Z"
        },
        "colab": {
          "base_uri": "https://localhost:8080/",
          "height": 452
        },
        "id": "Mvjc1idfoe2Y",
        "outputId": "61a45a0d-24c7-4333-8372-8b8fb396227f"
      },
      "outputs": [
        {
          "output_type": "display_data",
          "data": {
            "text/plain": [
              "<Figure size 640x480 with 1 Axes>"
            ],
            "image/png": "[encoded data removed]"
          },
          "metadata": {}
        }
      ],
      "source": [
        "show_img(train_data, 149)"
      ]
    },
    {
      "cell_type": "markdown",
      "metadata": {
        "_uuid": "f7f3744ebae007d1150e96f6c9d23896bf0cc3ce",
        "id": "1DaL6GX1oe2Y"
      },
      "source": [
        "### model, compile"
      ]
    },
    {
      "cell_type": "code",
      "execution_count": 23,
      "metadata": {
        "_uuid": "197e457ae115c85fe96db9621fd296978a62502c",
        "execution": {
          "iopub.execute_input": "2023-09-22T21:07:15.440617Z",
          "iopub.status.busy": "2023-09-22T21:07:15.439792Z",
          "iopub.status.idle": "2023-09-22T21:07:15.736334Z",
          "shell.execute_reply": "2023-09-22T21:07:15.735275Z",
          "shell.execute_reply.started": "2023-09-22T21:07:15.440218Z"
        },
        "colab": {
          "base_uri": "https://localhost:8080/",
          "height": 0
        },
        "id": "3YSxpt3yoe2Z",
        "outputId": "3c2812a5-5869-4afb-d2c9-de41a2b6a636"
      },
      "outputs": [
        {
          "output_type": "stream",
          "name": "stdout",
          "text": [
            "Model: \"sequential\"\n",
            "_________________________________________________________________\n",
            " Layer (type)                Output Shape              Param #   \n",
            "=================================================================\n",
            " conv2d (Conv2D)             (None, 12, 12, 12)        312       \n",
            "                                                                 \n",
            " dropout (Dropout)           (None, 12, 12, 12)        0         \n",
            "                                                                 \n",
            " conv2d_1 (Conv2D)           (None, 5, 5, 18)          1962      \n",
            "                                                                 \n",
            " dropout_1 (Dropout)         (None, 5, 5, 18)          0         \n",
            "                                                                 \n",
            " conv2d_2 (Conv2D)           (None, 4, 4, 24)          1752      \n",
            "                                                                 \n",
            " flatten (Flatten)           (None, 384)               0         \n",
            "                                                                 \n",
            " dense (Dense)               (None, 150)               57750     \n",
            "                                                                 \n",
            " dense_1 (Dense)             (None, 27)                4077      \n",
            "                                                                 \n",
            "=================================================================\n",
            "Total params: 65853 (257.24 KB)\n",
            "Trainable params: 65853 (257.24 KB)\n",
            "Non-trainable params: 0 (0.00 Byte)\n",
            "_________________________________________________________________\n"
          ]
        }
      ],
      "source": [
        "model = keras.models.Sequential()\n",
        "\n",
        "# model.add(keras.layers.Reshape((img_size,img_size,1), input_shape=(784,)))\n",
        "model.add(keras.layers.Conv2D(filters=12, kernel_size=(5,5), strides=2, activation='relu',\n",
        "                              input_shape=(img_size,img_size,1)))\n",
        "# model.add(keras.layers.MaxPooling2D(pool_size=(2,2)))\n",
        "model.add(keras.layers.Dropout(.5))\n",
        "\n",
        "model.add(keras.layers.Conv2D(filters=18, kernel_size=(3,3) , strides=2, activation='relu'))\n",
        "# model.add(keras.layers.MaxPooling2D(pool_size=(2,2)))\n",
        "model.add(keras.layers.Dropout(.5))\n",
        "\n",
        "model.add(keras.layers.Conv2D(filters=24, kernel_size=(2,2), activation='relu'))\n",
        "# model.add(keras.layers.MaxPooling2D(pool_size=(2,2)))\n",
        "\n",
        "# model.add(keras.layers.Conv2D(filters=30, kernel_size=(3,3), activation='relu'))\n",
        "\n",
        "model.add(keras.layers.Flatten())\n",
        "model.add(keras.layers.Dense(units=150, activation='relu'))\n",
        "model.add(keras.layers.Dense(units=len(class_mapping), activation='softmax'))\n",
        "\n",
        "model.compile(loss='categorical_crossentropy', optimizer='Adam', metrics=['accuracy'])\n",
        "model.summary()"
      ]
    },
    {
      "cell_type": "code",
      "execution_count": 24,
      "metadata": {
        "_uuid": "35693aac7a868fce047dffa15a5c2c62a5943496",
        "execution": {
          "iopub.execute_input": "2023-09-22T21:07:15.738353Z",
          "iopub.status.busy": "2023-09-22T21:07:15.737970Z",
          "iopub.status.idle": "2023-09-22T21:07:15.745608Z",
          "shell.execute_reply": "2023-09-22T21:07:15.744585Z",
          "shell.execute_reply.started": "2023-09-22T21:07:15.738277Z"
        },
        "colab": {
          "base_uri": "https://localhost:8080/",
          "height": 0
        },
        "id": "LgfH0uGEoe2a",
        "outputId": "80d26f80-719f-48d9-9227-3641cc0e0418"
      },
      "outputs": [
        {
          "output_type": "stream",
          "name": "stdout",
          "text": [
            "[None, 12, 12, 12]\n",
            "[None, 12, 12, 12]\n",
            "[None, 5, 5, 18]\n",
            "[None, 5, 5, 18]\n",
            "[None, 4, 4, 24]\n",
            "[None, 384]\n",
            "[None, 150]\n",
            "[None, 27]\n"
          ]
        }
      ],
      "source": [
        "for layer in model.layers:\n",
        "    print(layer.get_output_at(0).get_shape().as_list())\n"
      ]
    },
    {
      "cell_type": "markdown",
      "metadata": {
        "_uuid": "5fbd7a6b3c2f3ed6fc9d4e96ddecc7106d31b410",
        "id": "pUHfxeyeoe2a"
      },
      "source": [
        "### Train"
      ]
    },
    {
      "cell_type": "code",
      "execution_count": 25,
      "metadata": {
        "_uuid": "f77ca5ebdb6a2080248702f109bef0ca04ca4e9e",
        "execution": {
          "iopub.execute_input": "2023-09-22T21:07:15.747766Z",
          "iopub.status.busy": "2023-09-22T21:07:15.747150Z",
          "iopub.status.idle": "2023-09-22T21:07:25.957921Z",
          "shell.execute_reply": "2023-09-22T21:07:25.956920Z",
          "shell.execute_reply.started": "2023-09-22T21:07:15.747696Z"
        },
        "colab": {
          "base_uri": "https://localhost:8080/",
          "height": 0
        },
        "id": "Qg6mDSG8oe2a",
        "outputId": "1c379656-9667-43cc-cb7b-e9d3ae1271d4"
      },
      "outputs": [
        {
          "output_type": "stream",
          "name": "stdout",
          "text": [
            "(88800, 28, 28, 1)\n"
          ]
        }
      ],
      "source": [
        "num_classes = len(class_mapping)\n",
        "img_size = 28\n",
        "\n",
        "data = pd.read_csv(train_data_path, header=None)\n",
        "data_rows = len(data)\n",
        "if not num_classes:\n",
        "    num_classes = len(data[0].unique())\n",
        "\n",
        "# this assumes square imgs. Should be 28x28\n",
        "img_size = int(np.sqrt(len(data.iloc[0][1:])))\n",
        "\n",
        "# Images need to be transposed. This line also does the reshaping needed.\n",
        "imgs = np.transpose(data.values[:,1:].reshape(data_rows, img_size, img_size, 1), axes=[0,2,1,3]) # img_size * img_size arrays\n",
        "\n",
        "labels = keras.utils.to_categorical(data.values[:,0]) # one-hot encoding vectors\n",
        "\n",
        "X, y = imgs/255., labels\n",
        "print(X.shape)"
      ]
    },
    {
      "cell_type": "code",
      "execution_count": 26,
      "metadata": {
        "_uuid": "a10897314dbbcef2233cab83b2cdb981533ccf3d",
        "execution": {
          "iopub.execute_input": "2023-09-22T21:07:25.959462Z",
          "iopub.status.busy": "2023-09-22T21:07:25.959200Z",
          "iopub.status.idle": "2023-09-22T21:08:04.717036Z",
          "shell.execute_reply": "2023-09-22T21:08:04.716200Z",
          "shell.execute_reply.started": "2023-09-22T21:07:25.959418Z"
        },
        "colab": {
          "base_uri": "https://localhost:8080/",
          "height": 0
        },
        "id": "pOUNNIo5oe2a",
        "outputId": "a1661b1b-e73b-4c30-e85f-3ff7a4f23901"
      },
      "outputs": [
        {
          "output_type": "stream",
          "name": "stderr",
          "text": [
            "<ipython-input-26-b387decadc61>:13: UserWarning: `Model.fit_generator` is deprecated and will be removed in a future version. Please use `Model.fit`, which supports generators.\n",
            "  history = model.fit_generator(training_data_generator,\n"
          ]
        },
        {
          "output_type": "stream",
          "name": "stdout",
          "text": [
            "Epoch 1/5\n",
            "500/500 [==============================] - 13s 22ms/step - loss: 1.9027 - accuracy: 0.4421 - val_loss: 1.0455 - val_accuracy: 0.6806\n",
            "Epoch 2/5\n",
            "500/500 [==============================] - 11s 22ms/step - loss: 1.0657 - accuracy: 0.6687 - val_loss: 0.7187 - val_accuracy: 0.7742\n",
            "Epoch 3/5\n",
            "500/500 [==============================] - 16s 32ms/step - loss: 0.8557 - accuracy: 0.7312 - val_loss: 0.5774 - val_accuracy: 0.8200\n",
            "Epoch 4/5\n",
            "500/500 [==============================] - 10s 21ms/step - loss: 0.7543 - accuracy: 0.7677 - val_loss: 0.5320 - val_accuracy: 0.8282\n",
            "Epoch 5/5\n",
            "500/500 [==============================] - 12s 23ms/step - loss: 0.6647 - accuracy: 0.7903 - val_loss: 0.4900 - val_accuracy: 0.8426\n"
          ]
        }
      ],
      "source": [
        "data_generator = keras.preprocessing.image.ImageDataGenerator(validation_split=.2)\n",
        "## consider using this for more variety\n",
        "data_generator_with_aug = keras.preprocessing.image.ImageDataGenerator(validation_split=.2,\n",
        "                                            width_shift_range=.2, height_shift_range=.2,\n",
        "                                            rotation_range=60, zoom_range=.2, shear_range=.3)\n",
        "\n",
        "# if already ran this above, no need to do it again\n",
        "# X, y = img_label_load(train_data_path)\n",
        "# print(\"X.shape: \", X.shape)\n",
        "\n",
        "training_data_generator = data_generator.flow(X, y, subset='training')\n",
        "validation_data_generator = data_generator.flow(X, y, subset='validation')\n",
        "history = model.fit_generator(training_data_generator,\n",
        "                              steps_per_epoch=500, epochs=5, # can change epochs to 10\n",
        "                              validation_data=validation_data_generator)\n"
      ]
    },
    {
      "cell_type": "code",
      "execution_count": 27,
      "metadata": {
        "_uuid": "14fb22d26d96914ca1c8111dd8f056915db9cf19",
        "execution": {
          "iopub.execute_input": "2023-09-22T21:08:04.718684Z",
          "iopub.status.busy": "2023-09-22T21:08:04.718391Z",
          "iopub.status.idle": "2023-09-22T21:08:16.763290Z",
          "shell.execute_reply": "2023-09-22T21:08:16.762382Z",
          "shell.execute_reply.started": "2023-09-22T21:08:04.718624Z"
        },
        "colab": {
          "base_uri": "https://localhost:8080/",
          "height": 0
        },
        "id": "a5nb89W4oe2a",
        "outputId": "5c615603-1948-4f4a-e118-eea43d46b1ba"
      },
      "outputs": [
        {
          "output_type": "stream",
          "name": "stderr",
          "text": [
            "<ipython-input-27-434a6651e182>:19: UserWarning: `Model.evaluate_generator` is deprecated and will be removed in a future version. Please use `Model.evaluate`, which supports generators.\n",
            "  model.evaluate_generator(test_data_generator)\n"
          ]
        },
        {
          "output_type": "execute_result",
          "data": {
            "text/plain": [
              "[0.47828805446624756, 0.8454842567443848]"
            ]
          },
          "metadata": {},
          "execution_count": 27
        }
      ],
      "source": [
        "num_classes = len(class_mapping)\n",
        "\n",
        "data = pd.read_csv(test_data_path, header=None)\n",
        "data_rows = len(data)\n",
        "if not num_classes:\n",
        "    num_classes = len(data[0].unique())\n",
        "\n",
        "# this assumes square imgs. Should be 28x28\n",
        "img_size = int(np.sqrt(len(data.iloc[0][1:])))\n",
        "\n",
        "# Images need to be transposed. This line also does the reshaping needed.\n",
        "imgs = np.transpose(data.values[:,1:].reshape(data_rows, img_size, img_size, 1), axes=[0,2,1,3]) # img_size * img_size arrays\n",
        "\n",
        "labels = keras.utils.to_categorical(data.values[:,0], num_classes) # one-hot encoding vectors\n",
        "\n",
        "test_X, test_y = imgs/255., labels\n",
        "test_data_generator = data_generator.flow(X, y)\n",
        "\n",
        "model.evaluate_generator(test_data_generator)"
      ]
    },
    {
      "cell_type": "markdown",
      "metadata": {
        "_uuid": "3aa759dd7aa31e37dc48bc9a65b8c815ce273019",
        "id": "GXzvUX1qoe2a"
      },
      "source": [
        "## Look at some predictions\n"
      ]
    },
    {
      "cell_type": "code",
      "execution_count": 28,
      "metadata": {
        "_uuid": "b2267b783e2b08ef23ec5d7bc68c6b0e14b1d2fd",
        "execution": {
          "iopub.execute_input": "2023-09-22T21:08:16.765036Z",
          "iopub.status.busy": "2023-09-22T21:08:16.764634Z",
          "iopub.status.idle": "2023-09-22T21:08:18.591576Z",
          "shell.execute_reply": "2023-09-22T21:08:18.590386Z",
          "shell.execute_reply.started": "2023-09-22T21:08:16.764935Z"
        },
        "colab": {
          "base_uri": "https://localhost:8080/",
          "height": 452
        },
        "id": "usnERPaEoe2a",
        "outputId": "099a7746-1f62-4a45-b946-7a6ee9634dbe"
      },
      "outputs": [
        {
          "output_type": "display_data",
          "data": {
            "text/plain": [
              "<Figure size 640x480 with 1 Axes>"
            ],
            "image/png": "[encoded data removed]"
          },
          "metadata": {}
        }
      ],
      "source": [
        "test_data = pd.read_csv(test_data_path, header=None)\n",
        "show_img(test_data, 123)"
      ]
    },
    {
      "cell_type": "code",
      "execution_count": 29,
      "metadata": {
        "_uuid": "60f2c48a1923aa302d24e6a0ee019fc9aba950d1",
        "execution": {
          "iopub.execute_input": "2023-09-22T21:08:18.594257Z",
          "iopub.status.busy": "2023-09-22T21:08:18.593541Z",
          "iopub.status.idle": "2023-09-22T21:08:20.266136Z",
          "shell.execute_reply": "2023-09-22T21:08:20.265235Z",
          "shell.execute_reply.started": "2023-09-22T21:08:18.594178Z"
        },
        "id": "YJEPofmDoe2e"
      },
      "outputs": [],
      "source": [
        "num_classes = len(class_mapping)\n",
        "img_size = 28\n",
        "\n",
        "data = pd.read_csv(test_data_path, header=None)\n",
        "data_rows = len(data)\n",
        "if not num_classes:\n",
        "    num_classes = len(data[0].unique())\n",
        "\n",
        "# this assumes square imgs. Should be 28x28\n",
        "img_size = int(np.sqrt(len(data.iloc[0][1:])))\n",
        "\n",
        "# Images need to be transposed. This line also does the reshaping needed.\n",
        "imgs = np.transpose(data.values[:,1:].reshape(data_rows, img_size, img_size, 1), axes=[0,2,1,3]) # img_size * img_size arrays\n",
        "\n",
        "labels = keras.utils.to_categorical(data.values[:,0], num_classes) # one-hot encoding vectors\n",
        "\n",
        "X_test, y_test = imgs/255., labels"
      ]
    },
    {
      "cell_type": "code",
      "execution_count": 30,
      "metadata": {
        "_uuid": "2a8b2f8b90f9ee6aa1cc169b58b637da49735ab7",
        "execution": {
          "iopub.execute_input": "2023-09-22T21:08:20.268193Z",
          "iopub.status.busy": "2023-09-22T21:08:20.267662Z",
          "iopub.status.idle": "2023-09-22T21:08:20.276720Z",
          "shell.execute_reply": "2023-09-22T21:08:20.275938Z",
          "shell.execute_reply.started": "2023-09-22T21:08:20.268001Z"
        },
        "id": "Zz4eXKQPoe2e"
      },
      "outputs": [],
      "source": [
        "def run_prediction(idx):\n",
        "    result = np.argmax(model.predict(X_test[idx:idx+1]))\n",
        "    print('Prediction: ', result, ', Char: ', class_mapping[result])\n",
        "    print('Label: ', test_data.values[idx,0])\n",
        "    show_img(test_data, idx)"
      ]
    },
    {
      "cell_type": "code",
      "execution_count": 31,
      "metadata": {
        "_uuid": "30c86d25f4147a803278fa9e5838449656f2095a",
        "execution": {
          "iopub.execute_input": "2023-09-22T21:08:20.278565Z",
          "iopub.status.busy": "2023-09-22T21:08:20.278171Z",
          "iopub.status.idle": "2023-09-22T21:08:20.696577Z",
          "shell.execute_reply": "2023-09-22T21:08:20.695364Z",
          "shell.execute_reply.started": "2023-09-22T21:08:20.278501Z"
        },
        "colab": {
          "base_uri": "https://localhost:8080/",
          "height": 1135
        },
        "id": "nsxXKqQXoe2e",
        "outputId": "770eab81-a604-4a01-c13e-30b0b3d1be4c"
      },
      "outputs": [
        {
          "output_type": "stream",
          "name": "stdout",
          "text": [
            "1/1 [==============================] - 0s 128ms/step\n",
            "Prediction:  12 , Char:  L\n",
            "Label:  9\n",
            "1/1 [==============================] - 0s 28ms/step\n",
            "Prediction:  12 , Char:  L\n",
            "Label:  9\n",
            "1/1 [==============================] - 0s 41ms/step\n",
            "Prediction:  17 , Char:  Q\n",
            "Label:  7\n",
            "1/1 [==============================] - 0s 22ms/step\n",
            "Prediction:  10 , Char:  J\n",
            "Label:  10\n",
            "1/1 [==============================] - 0s 23ms/step\n",
            "Prediction:  9 , Char:  I\n",
            "Label:  9\n",
            "1/1 [==============================] - 0s 31ms/step\n",
            "Prediction:  4 , Char:  D\n",
            "Label:  4\n",
            "1/1 [==============================] - 0s 23ms/step\n",
            "Prediction:  5 , Char:  E\n",
            "Label:  5\n",
            "1/1 [==============================] - 0s 44ms/step\n",
            "Prediction:  2 , Char:  B\n",
            "Label:  2\n",
            "1/1 [==============================] - 0s 28ms/step\n",
            "Prediction:  7 , Char:  G\n",
            "Label:  7\n",
            "1/1 [==============================] - 0s 30ms/step\n",
            "Prediction:  6 , Char:  F\n",
            "Label:  6\n",
            "1/1 [==============================] - 0s 25ms/step\n",
            "Prediction:  2 , Char:  B\n",
            "Label:  2\n",
            "1/1 [==============================] - 0s 32ms/step\n",
            "Prediction:  2 , Char:  B\n",
            "Label:  2\n",
            "1/1 [==============================] - 0s 22ms/step\n",
            "Prediction:  3 , Char:  C\n",
            "Label:  3\n",
            "1/1 [==============================] - 0s 20ms/step\n",
            "Prediction:  9 , Char:  I\n",
            "Label:  9\n"
          ]
        },
        {
          "output_type": "display_data",
          "data": {
            "text/plain": [
              "<Figure size 640x480 with 1 Axes>"
            ],
            "image/png": "[encoded data removed]"
          },
          "metadata": {}
        }
      ],
      "source": [
        "import random\n",
        "\n",
        "for _ in range(1,15):\n",
        "    idx = random.randint(0, 8000)\n",
        "    run_prediction(idx)"
      ]
    },
    {
      "cell_type": "code",
      "execution_count": 32,
      "metadata": {
        "_uuid": "be1a2897df65088691d96c59331ff34420e22d45",
        "execution": {
          "iopub.execute_input": "2023-09-22T21:08:20.698784Z",
          "iopub.status.busy": "2023-09-22T21:08:20.698335Z",
          "iopub.status.idle": "2023-09-22T21:08:20.930387Z",
          "shell.execute_reply": "2023-09-22T21:08:20.929242Z",
          "shell.execute_reply.started": "2023-09-22T21:08:20.698714Z"
        },
        "colab": {
          "base_uri": "https://localhost:8080/",
          "height": 470
        },
        "id": "6PEsobwBoe2e",
        "outputId": "fd23ab69-7b41-42e1-f6db-a0e373858f61"
      },
      "outputs": [
        {
          "output_type": "execute_result",
          "data": {
            "text/plain": [
              "1"
            ]
          },
          "metadata": {},
          "execution_count": 32
        },
        {
          "output_type": "display_data",
          "data": {
            "text/plain": [
              "<Figure size 640x480 with 1 Axes>"
            ],
            "image/png": "[encoded data removed]"
          },
          "metadata": {}
        }
      ],
      "source": [
        "show_img(test_data, 123)\n",
        "np.argmax(y_test[123])"
      ]
    },
    {
      "cell_type": "code",
      "execution_count": null,
      "metadata": {
        "_uuid": "0420fa5ad096f37736656c22f687f91e5dd0c38e",
        "collapsed": true,
        "jupyter": {
          "outputs_hidden": true
        },
        "id": "xlxivCgfoe2e"
      },
      "outputs": [],
      "source": []
    },
    {
      "cell_type": "markdown",
      "metadata": {
        "_uuid": "6fee62a1450c90e70a7ed40b5e84f51560d9b60c",
        "id": "ilLmwTpxoe2e"
      },
      "source": [
        "## Export model to TF SavedModel for CMLE Prediction\n",
        "https://www.tensorflow.org/api_docs/python/tf/keras/estimator/model_to_estimator"
      ]
    },
    {
      "cell_type": "code",
      "execution_count": null,
      "metadata": {
        "_uuid": "ab45a0f245c342cdb9d360e95db8dacbd8d0e7bf",
        "execution": {
          "iopub.execute_input": "2023-09-22T21:08:20.933081Z",
          "iopub.status.busy": "2023-09-22T21:08:20.932449Z",
          "iopub.status.idle": "2023-09-22T21:08:22.359749Z",
          "shell.execute_reply": "2023-09-22T21:08:22.358875Z",
          "shell.execute_reply.started": "2023-09-22T21:08:20.932876Z"
        },
        "id": "I13KK1Sroe2e",
        "outputId": "78fe82d7-3721-4e29-8b09-13eeb6087daf"
      },
      "outputs": [
        {
          "name": "stdout",
          "output_type": "stream",
          "text": [
            "conv2d_input\n"
          ]
        }
      ],
      "source": [
        "# First, convert Keras Model to TensorFlow Estimator\n",
        "model_input_name = model.input_names[0]\n",
        "estimator_model = keras.estimator.model_to_estimator(keras_model=model, model_dir=\"./estimator_model\")\n",
        "print(model_input_name)"
      ]
    },
    {
      "cell_type": "code",
      "execution_count": null,
      "metadata": {
        "_uuid": "2c74172a358b5b969353b8d64288999ab7bd0a7b",
        "execution": {
          "iopub.execute_input": "2023-09-22T21:08:22.361144Z",
          "iopub.status.busy": "2023-09-22T21:08:22.360902Z",
          "iopub.status.idle": "2023-09-22T21:08:22.378393Z",
          "shell.execute_reply": "2023-09-22T21:08:22.377555Z",
          "shell.execute_reply.started": "2023-09-22T21:08:22.361107Z"
        },
        "id": "LKOaEZL5oe2e"
      },
      "outputs": [],
      "source": [
        "# Next, export the TensorFlow Estimator to SavedModel\n",
        "\n",
        "from functools import partial\n",
        "import tensorflow as tf\n",
        "\n",
        "def serving_input_receiver_fn():\n",
        "    input_ph = tf.placeholder(tf.string, shape=[None], name='image_binary')\n",
        "    images = tf.map_fn(partial(tf.image.decode_image, channels=1), input_ph, dtype=tf.uint8)\n",
        "    images = tf.cast(images, tf.float32) / 255.\n",
        "    images.set_shape([None, 28, 28, 1])\n",
        "\n",
        "    # the first key is the name of first layer of the (keras) model.\n",
        "    # The second key is the name of the key that will be passed in the prediction request\n",
        "    return tf.estimator.export.ServingInputReceiver({model_input_name: images}, {'bytes': input_ph})"
      ]
    },
    {
      "cell_type": "code",
      "execution_count": null,
      "metadata": {
        "_uuid": "e1c5aa3adcb0186f38f8f1f79f134d62a39c471a",
        "execution": {
          "iopub.execute_input": "2023-09-22T21:08:22.379803Z",
          "iopub.status.busy": "2023-09-22T21:08:22.379558Z",
          "iopub.status.idle": "2023-09-22T21:08:22.725233Z",
          "shell.execute_reply": "2023-09-22T21:08:22.724318Z",
          "shell.execute_reply.started": "2023-09-22T21:08:22.379760Z"
        },
        "id": "440DHvaVoe2f",
        "outputId": "f6200ba3-8645-4509-d58d-846b7eab7b19"
      },
      "outputs": [
        {
          "data": {
            "text/plain": [
              "b'./export/1695417128'"
            ]
          },
          "execution_count": 25,
          "metadata": {},
          "output_type": "execute_result"
        }
      ],
      "source": [
        "export_path = estimator_model.export_savedmodel('./export', serving_input_receiver_fn=serving_input_receiver_fn)\n",
        "export_path"
      ]
    },
    {
      "cell_type": "markdown",
      "metadata": {
        "_uuid": "2695e4eda1240fb4c3b5eaa7b3b2f18ec3418324",
        "id": "WSGDRwKToe2f"
      },
      "source": [
        "## Keras exports"
      ]
    },
    {
      "cell_type": "code",
      "execution_count": null,
      "metadata": {
        "_uuid": "3e78e9886eb9570bae22ec07a37b0d04131ab77b",
        "execution": {
          "iopub.execute_input": "2023-09-22T21:08:22.727055Z",
          "iopub.status.busy": "2023-09-22T21:08:22.726682Z",
          "iopub.status.idle": "2023-09-22T21:08:24.023674Z",
          "shell.execute_reply": "2023-09-22T21:08:24.022799Z",
          "shell.execute_reply.started": "2023-09-22T21:08:22.726987Z"
        },
        "id": "ejt4ESCuoe2f",
        "outputId": "2012f2d7-cca1-4ae9-9700-27739f18f772"
      },
      "outputs": [
        {
          "name": "stdout",
          "output_type": "stream",
          "text": [
            "total 1.2M\r\n",
            "-rw-r--r-- 1 root root 811K Sep 22 21:12 CNN_model_2_EMNIST.h5\r\n",
            "---------- 1 root root  21K Sep 22 21:10 __notebook__.ipynb\r\n",
            "drwxr-xr-x 2 root root 4.0K Sep 22 21:12 estimator_model\r\n",
            "drwxr-xr-x 3 root root 4.0K Sep 22 21:12 export\r\n",
            "-rw-r--r-- 1 root root 281K Sep 22 21:12 model.h5\r\n",
            "-rw-r--r-- 1 root root 3.5K Sep 22 21:12 model.json\r\n"
          ]
        }
      ],
      "source": [
        "with open('model.json', 'w') as f:\n",
        "    f.write(model.to_json())\n",
        "model.save_weights('./model.h5')\n",
        "\n",
        "model.save('./CNN_model_2_EMNIST.h5')\n",
        "!ls -lh"
      ]
    },
    {
      "cell_type": "markdown",
      "metadata": {
        "_uuid": "09bcb1baf98680d49505b3efe5c3dd9ac6c5892d",
        "id": "Z0Io-eq6oe2f"
      },
      "source": [
        "## Plot loss and accuracy"
      ]
    },
    {
      "cell_type": "code",
      "execution_count": null,
      "metadata": {
        "_uuid": "3a7d93c115273e615b5f98d0df54eb0ce66b2a81",
        "execution": {
          "iopub.execute_input": "2023-09-22T21:08:24.025360Z",
          "iopub.status.busy": "2023-09-22T21:08:24.025024Z",
          "iopub.status.idle": "2023-09-22T21:08:24.638204Z",
          "shell.execute_reply": "2023-09-22T21:08:24.636881Z",
          "shell.execute_reply.started": "2023-09-22T21:08:24.025296Z"
        },
        "id": "u9H62wfpoe2f",
        "outputId": "3caf414e-4396-49a3-94f2-280102a7f4c9"
      },
      "outputs": [
        {
          "name": "stdout",
          "output_type": "stream",
          "text": [
            "dict_keys(['val_loss', 'val_acc', 'loss', 'acc'])\n"
          ]
        },
        {
          "data": {
            "image/png": "[encoded data removed]",
            "text/plain": [
              "<matplotlib.figure.Figure at 0x7b89188a06a0>"
            ]
          },
          "metadata": {},
          "output_type": "display_data"
        },
        {
          "data": {
            "image/png": "[encoded data removed]",
            "text/plain": [
              "<matplotlib.figure.Figure at 0x7b8918882630>"
            ]
          },
          "metadata": {},
          "output_type": "display_data"
        }
      ],
      "source": [
        "import matplotlib.pyplot as plt\n",
        "\n",
        "print(history.history.keys())\n",
        "\n",
        "# accuracy\n",
        "plt.plot(history.history['acc'])\n",
        "plt.plot(history.history['val_acc'])\n",
        "plt.title('model accuracy')\n",
        "plt.ylabel('accuracy')\n",
        "plt.xlabel('epoch')\n",
        "plt.legend(['train', 'validation'], loc='lower right')\n",
        "plt.show()\n",
        "\n",
        "# loss\n",
        "plt.plot(history.history['loss'])\n",
        "plt.plot(history.history['val_loss'])\n",
        "plt.title('model loss')\n",
        "plt.ylabel('loss')\n",
        "plt.xlabel('epoch')\n",
        "plt.legend(['train', 'validation'], loc='upper right')\n",
        "plt.show()"
      ]
    },
    {
      "cell_type": "markdown",
      "source": [
        "Hyperparameter Tuning: Experiment with different hyperparameters such as the number of layers, filter sizes, dropout rates, and learning rates to optimize the model's performance.\n",
        "\n",
        "Model Architecture: Explore different CNN architectures like VGG, ResNet, or Inception to see if they perform better on the dataset.\n",
        "\n",
        "Data Augmentation: You can further enhance data augmentation by applying additional transformations or using more sophisticated techniques like generative adversarial networks (GANs).\n",
        "\n",
        "Transfer Learning: Consider using pre-trained models (e.g., from ImageNet) as a starting point and fine-tuning them on the EMNIST dataset. This can potentially boost performance, especially if you have a limited amount of training data.\n",
        "\n",
        "Ensemble Models: Train multiple models with different architectures and combine their predictions to improv`e accuracy.\n",
        "\n",
        "Regularization: Implement techniques like L1 and L2 regularization to prevent overfitting.\n",
        "\n",
        "Learning Rate Scheduling: Experiment with learning rate scheduling to find the optimal learning rate during training.\n",
        "\n",
        "Advanced Visualization: Enhance the visualization by showing more details about the model's performance, such as confusion matrices and class-wise accuracy.\n",
        "\n",
        "Interactive Web App: Develop an interactive web application where users can draw characters, and the model will predict what they've drawn in real-time.\n",
        "\n",
        "Explainability: Explore techniques for model explainability to understand why the model made certain predictions.\n",
        "\n",
        "Deployment: Deploy the trained model as a web service or mobile app for practical use."
      ],
      "metadata": {
        "id": "3iMM145x_Jrn"
      }
    },
    {
      "cell_type": "code",
      "source": [],
      "metadata": {
        "id": "MeAdy7Gp_LaC"
      },
      "execution_count": null,
      "outputs": []
    }
  ],
  "metadata": {
    "kernelspec": {
      "display_name": "Python 3",
      "language": "python",
      "name": "python3"
    },
    "language_info": {
      "codemirror_mode": {
        "name": "ipython",
        "version": 3
      },
      "file_extension": ".py",
      "mimetype": "text/x-python",
      "name": "python",
      "nbconvert_exporter": "python",
      "pygments_lexer": "ipython3",
      "version": "3.6.4"
    },
    "colab": {
      "provenance": [],
      "include_colab_link": true
    }
  },
  "nbformat": 4,
  "nbformat_minor": 0
}